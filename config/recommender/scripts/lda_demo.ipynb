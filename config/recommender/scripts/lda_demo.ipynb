{
 "cells": [
  {
   "cell_type": "code",
   "execution_count": 1,
   "metadata": {},
   "outputs": [],
   "source": [
    "import numpy as np\n",
    "import pandas as pd\n",
    "from sklearn.feature_extraction.text import CountVectorizer\n",
    "from sklearn.decomposition import LatentDirichletAllocation\n",
    "from sklearn.neighbors import NearestNeighbors\n",
    "import json"
   ]
  },
  {
   "cell_type": "code",
   "execution_count": 2,
   "metadata": {},
   "outputs": [],
   "source": [
    "# Define some example document texts\n",
    "docs = [\n",
    "    \"I love food\",\n",
    "    \"Healthy food, healthy life\",\n",
    "    \"Get a hobby, enjoy life\",\n",
    "    \"My hobby is to play chess. I enjoy it. \",\n",
    "    \"I enjoy my life to fullest. I cook healthy food. I go to gym. I play basketball\"\n",
    "]"
   ]
  },
  {
   "cell_type": "code",
   "execution_count": 3,
   "metadata": {},
   "outputs": [
    {
     "name": "stdout",
     "output_type": "stream",
     "text": [
      "Vocabulary: ['basketball' 'chess' 'cook' 'enjoy' 'food' 'fullest' 'get' 'go' 'gym'\n",
      " 'healthy' 'hobby' 'is' 'it' 'life' 'love' 'my' 'play' 'to']\n",
      "Term-frequency matrix:\n",
      "[[0 0 0 0 1 0 0 0 0 0 0 0 0 0 1 0 0 0]\n",
      " [0 0 0 0 1 0 0 0 0 2 0 0 0 1 0 0 0 0]\n",
      " [0 0 0 1 0 0 1 0 0 0 1 0 0 1 0 0 0 0]\n",
      " [0 1 0 1 0 0 0 0 0 0 1 1 1 0 0 1 1 1]\n",
      " [1 0 1 1 1 1 0 1 1 1 0 0 0 1 0 1 1 2]]\n"
     ]
    }
   ],
   "source": [
    "# Create a count vectorizer to transform the documents into term-frequency matrix\n",
    "vectorizer = CountVectorizer()\n",
    "X = vectorizer.fit_transform(docs)\n",
    "\n",
    "# Print the vocabulary and the term-frequency matrix\n",
    "vocab = vectorizer.get_feature_names_out()\n",
    "print(\"Vocabulary:\", vocab)\n",
    "print(\"Term-frequency matrix:\")\n",
    "print(X.toarray())"
   ]
  },
  {
   "cell_type": "code",
   "execution_count": 4,
   "metadata": {},
   "outputs": [
    {
     "data": {
      "text/html": [
       "<style>#sk-container-id-1 {color: black;}#sk-container-id-1 pre{padding: 0;}#sk-container-id-1 div.sk-toggleable {background-color: white;}#sk-container-id-1 label.sk-toggleable__label {cursor: pointer;display: block;width: 100%;margin-bottom: 0;padding: 0.3em;box-sizing: border-box;text-align: center;}#sk-container-id-1 label.sk-toggleable__label-arrow:before {content: \"▸\";float: left;margin-right: 0.25em;color: #696969;}#sk-container-id-1 label.sk-toggleable__label-arrow:hover:before {color: black;}#sk-container-id-1 div.sk-estimator:hover label.sk-toggleable__label-arrow:before {color: black;}#sk-container-id-1 div.sk-toggleable__content {max-height: 0;max-width: 0;overflow: hidden;text-align: left;background-color: #f0f8ff;}#sk-container-id-1 div.sk-toggleable__content pre {margin: 0.2em;color: black;border-radius: 0.25em;background-color: #f0f8ff;}#sk-container-id-1 input.sk-toggleable__control:checked~div.sk-toggleable__content {max-height: 200px;max-width: 100%;overflow: auto;}#sk-container-id-1 input.sk-toggleable__control:checked~label.sk-toggleable__label-arrow:before {content: \"▾\";}#sk-container-id-1 div.sk-estimator input.sk-toggleable__control:checked~label.sk-toggleable__label {background-color: #d4ebff;}#sk-container-id-1 div.sk-label input.sk-toggleable__control:checked~label.sk-toggleable__label {background-color: #d4ebff;}#sk-container-id-1 input.sk-hidden--visually {border: 0;clip: rect(1px 1px 1px 1px);clip: rect(1px, 1px, 1px, 1px);height: 1px;margin: -1px;overflow: hidden;padding: 0;position: absolute;width: 1px;}#sk-container-id-1 div.sk-estimator {font-family: monospace;background-color: #f0f8ff;border: 1px dotted black;border-radius: 0.25em;box-sizing: border-box;margin-bottom: 0.5em;}#sk-container-id-1 div.sk-estimator:hover {background-color: #d4ebff;}#sk-container-id-1 div.sk-parallel-item::after {content: \"\";width: 100%;border-bottom: 1px solid gray;flex-grow: 1;}#sk-container-id-1 div.sk-label:hover label.sk-toggleable__label {background-color: #d4ebff;}#sk-container-id-1 div.sk-serial::before {content: \"\";position: absolute;border-left: 1px solid gray;box-sizing: border-box;top: 0;bottom: 0;left: 50%;z-index: 0;}#sk-container-id-1 div.sk-serial {display: flex;flex-direction: column;align-items: center;background-color: white;padding-right: 0.2em;padding-left: 0.2em;position: relative;}#sk-container-id-1 div.sk-item {position: relative;z-index: 1;}#sk-container-id-1 div.sk-parallel {display: flex;align-items: stretch;justify-content: center;background-color: white;position: relative;}#sk-container-id-1 div.sk-item::before, #sk-container-id-1 div.sk-parallel-item::before {content: \"\";position: absolute;border-left: 1px solid gray;box-sizing: border-box;top: 0;bottom: 0;left: 50%;z-index: -1;}#sk-container-id-1 div.sk-parallel-item {display: flex;flex-direction: column;z-index: 1;position: relative;background-color: white;}#sk-container-id-1 div.sk-parallel-item:first-child::after {align-self: flex-end;width: 50%;}#sk-container-id-1 div.sk-parallel-item:last-child::after {align-self: flex-start;width: 50%;}#sk-container-id-1 div.sk-parallel-item:only-child::after {width: 0;}#sk-container-id-1 div.sk-dashed-wrapped {border: 1px dashed gray;margin: 0 0.4em 0.5em 0.4em;box-sizing: border-box;padding-bottom: 0.4em;background-color: white;}#sk-container-id-1 div.sk-label label {font-family: monospace;font-weight: bold;display: inline-block;line-height: 1.2em;}#sk-container-id-1 div.sk-label-container {text-align: center;}#sk-container-id-1 div.sk-container {/* jupyter's `normalize.less` sets `[hidden] { display: none; }` but bootstrap.min.css set `[hidden] { display: none !important; }` so we also need the `!important` here to be able to override the default hidden behavior on the sphinx rendered scikit-learn.org. See: https://github.com/scikit-learn/scikit-learn/issues/21755 */display: inline-block !important;position: relative;}#sk-container-id-1 div.sk-text-repr-fallback {display: none;}</style><div id=\"sk-container-id-1\" class=\"sk-top-container\"><div class=\"sk-text-repr-fallback\"><pre>LatentDirichletAllocation(n_components=6, random_state=0)</pre><b>In a Jupyter environment, please rerun this cell to show the HTML representation or trust the notebook. <br />On GitHub, the HTML representation is unable to render, please try loading this page with nbviewer.org.</b></div><div class=\"sk-container\" hidden><div class=\"sk-item\"><div class=\"sk-estimator sk-toggleable\"><input class=\"sk-toggleable__control sk-hidden--visually\" id=\"sk-estimator-id-1\" type=\"checkbox\" checked><label for=\"sk-estimator-id-1\" class=\"sk-toggleable__label sk-toggleable__label-arrow\">LatentDirichletAllocation</label><div class=\"sk-toggleable__content\"><pre>LatentDirichletAllocation(n_components=6, random_state=0)</pre></div></div></div></div></div>"
      ],
      "text/plain": [
       "LatentDirichletAllocation(n_components=6, random_state=0)"
      ]
     },
     "execution_count": 4,
     "metadata": {},
     "output_type": "execute_result"
    }
   ],
   "source": [
    "# Create an LDA model with 2 topics\n",
    "lda = LatentDirichletAllocation(n_components=6, random_state=0)\n",
    "lda.fit(X)"
   ]
  },
  {
   "cell_type": "code",
   "execution_count": 5,
   "metadata": {},
   "outputs": [
    {
     "name": "stdout",
     "output_type": "stream",
     "text": [
      "Topic-word distribution:\n",
      "Topic 1 [('basketball', 1.1666581844201933), ('chess', 0.16666702176878165), ('cook', 1.1666581844201933), ('enjoy', 1.166607759044104), ('food', 2.1664795018981358), ('fullest', 1.1666581844201933), ('get', 0.16666739766826313), ('go', 1.1666581844201933), ('gym', 1.1666581844201933), ('healthy', 1.166331851145414), ('hobby', 0.16666775247052856), ('is', 0.16666702176878165), ('it', 0.16666702176878165), ('life', 1.1663286715080512), ('love', 1.1666033221084486), ('my', 1.1665598269598174), ('play', 1.1665598269598174), ('to', 2.1667920684638213)]\n",
      "Topic 2 [('basketball', 0.16666908943905392), ('chess', 0.16666906737761397), ('cook', 0.16666908943905392), ('enjoy', 0.1666764963018281), ('food', 0.16668040544193347), ('fullest', 0.16666908943905392), ('get', 0.16667167559861432), ('go', 0.16666908943905392), ('gym', 0.16666908943905392), ('healthy', 0.16667333832209918), ('hobby', 0.16667407503821602), ('is', 0.16666906737761397), ('it', 0.16666906737761397), ('life', 0.16667333899721118), ('love', 0.1666848405243912), ('my', 0.16667148965566786), ('play', 0.16667148965566786), ('to', 0.16667112326897446)]\n",
      "Topic 3 [('basketball', 0.16666908943905392), ('chess', 0.16666906737761397), ('cook', 0.16666908943905392), ('enjoy', 0.1666764963018281), ('food', 0.16668040544193347), ('fullest', 0.16666908943905392), ('get', 0.16667167559861432), ('go', 0.16666908943905392), ('gym', 0.16666908943905392), ('healthy', 0.16667333832209918), ('hobby', 0.16667407503821602), ('is', 0.16666906737761397), ('it', 0.16666906737761397), ('life', 0.16667333899721118), ('love', 0.16668484052439117), ('my', 0.16667148965566786), ('play', 0.16667148965566786), ('to', 0.16667112326897446)]\n",
      "Topic 4 [('basketball', 0.16666726691762868), ('chess', 1.166658524513548), ('cook', 0.16666726691762868), ('enjoy', 1.1670253476952719), ('food', 0.16666996322691757), ('fullest', 0.16666726691762868), ('get', 0.1666679121829799), ('go', 0.16666726691762868), ('gym', 0.16666726691762868), ('healthy', 0.16666828414769747), ('hobby', 1.1669259207231673), ('is', 1.166658524513548), ('it', 1.166658524513548), ('life', 0.16666830390170803), ('love', 0.16667101478534938), ('my', 1.1667578390119535), ('play', 1.1667578390119535), ('to', 1.1665267894569644)]\n",
      "Topic 5 [('basketball', 0.16666728034501024), ('chess', 0.16666725158482507), ('cook', 0.16666728034501024), ('enjoy', 1.1663374043551267), ('food', 1.1668093185491366), ('fullest', 0.16666728034501024), ('get', 1.16664966335291), ('go', 0.16666728034501024), ('gym', 0.16666728034501024), ('healthy', 2.166979849740582), ('hobby', 1.1663841016916485), ('is', 0.16666725158482507), ('it', 0.16666725158482507), ('life', 2.166983007598598), ('love', 0.16667114153302032), ('my', 0.16666786506121617), ('play', 0.16666786506121617), ('to', 0.16666777227228188)]\n",
      "Topic 6 [('basketball', 0.16666908943905392), ('chess', 0.16666906737761397), ('cook', 0.16666908943905392), ('enjoy', 0.1666764963018281), ('food', 0.16668040544193347), ('fullest', 0.16666908943905392), ('get', 0.16667167559861432), ('go', 0.16666908943905392), ('gym', 0.16666908943905392), ('healthy', 0.16667333832209918), ('hobby', 0.16667407503821602), ('is', 0.16666906737761397), ('it', 0.16666906737761397), ('life', 0.16667333899721118), ('love', 0.16668484052439117), ('my', 0.16667148965566786), ('play', 0.16667148965566786), ('to', 0.16667112326897446)]\n"
     ]
    }
   ],
   "source": [
    "# Print the topic-word distribution\n",
    "print(\"Topic-word distribution:\")\n",
    "\n",
    "topic_word_dist = []\n",
    "for cnt,topic in enumerate(lda.components_,1):\n",
    "    dist = list(zip(vocab,topic))\n",
    "    topic_word_dist.append(dist)\n",
    "    print(\"Topic\",cnt, dist)"
   ]
  },
  {
   "cell_type": "code",
   "execution_count": 6,
   "metadata": {},
   "outputs": [
    {
     "name": "stdout",
     "output_type": "stream",
     "text": [
      "Document-topic distribution:\n",
      "[[0.72193512 0.05556418 0.05556418 0.05555762 0.05581471 0.05556418]\n",
      " [0.03357559 0.03333561 0.03333561 0.03333388 0.8330837  0.03333561]\n",
      " [0.03341761 0.03333676 0.03333676 0.03353845 0.83303365 0.03333676]\n",
      " [0.01860595 0.01852065 0.01852065 0.90726079 0.01857131 0.01852065]\n",
      " [0.94029388 0.01190671 0.01190671 0.01197165 0.01201433 0.01190671]]\n"
     ]
    }
   ],
   "source": [
    "# Print the document-topic distribution\n",
    "print(\"Document-topic distribution:\")\n",
    "document_topic_dist = lda.transform(X)\n",
    "print(document_topic_dist)"
   ]
  },
  {
   "cell_type": "code",
   "execution_count": 7,
   "metadata": {},
   "outputs": [
    {
     "name": "stdout",
     "output_type": "stream",
     "text": [
      "[[0.72193512 0.05556418 0.05556418 0.05555762 0.05581471 0.05556418]\n",
      " [0.03357559 0.03333561 0.03333561 0.03333388 0.8330837  0.03333561]\n",
      " [0.03341761 0.03333676 0.03333676 0.03353845 0.83303365 0.03333676]\n",
      " [0.01860595 0.01852065 0.01852065 0.90726079 0.01857131 0.01852065]\n",
      " [0.94029388 0.01190671 0.01190671 0.01197165 0.01201433 0.01190671]] \n",
      "\n",
      "[[0 4 5 2 1 3]\n",
      " [4 0 5 2 1 3]\n",
      " [4 3 0 5 2 1]\n",
      " [3 0 4 5 2 1]\n",
      " [0 4 3 5 2 1]] \n",
      "\n",
      "I love food\n",
      "Document 1 talks about topic [1 5 6 3 2 4] \n",
      "\n",
      "Healthy food, healthy life\n",
      "Document 2 talks about topic [5 1 6 3 2 4] \n",
      "\n",
      "Get a hobby, enjoy life\n",
      "Document 3 talks about topic [5 4 1 6 3 2] \n",
      "\n",
      "My hobby is to play chess. I enjoy it. \n",
      "Document 4 talks about topic [4 1 5 6 3 2] \n",
      "\n",
      "I enjoy my life to fullest. I cook healthy food. I go to gym. I play basketball\n",
      "Document 5 talks about topic [1 5 4 6 3 2] \n",
      "\n"
     ]
    }
   ],
   "source": [
    "print(document_topic_dist,\"\\n\")\n",
    "\n",
    "document_topic_argmax=document_topic_dist.argsort(axis=1)[:,::-1] #.argsort(axis=1)[:,::-1]\n",
    "print(document_topic_argmax,\"\\n\")\n",
    "\n",
    "for cnt,topic_idx, in enumerate(document_topic_argmax):\n",
    "    print(docs[cnt][:300])\n",
    "    print(\"Document\",cnt+1, \"talks about topic\", (topic_idx+1), \"\\n\")"
   ]
  },
  {
   "cell_type": "code",
   "execution_count": 8,
   "metadata": {},
   "outputs": [],
   "source": [
    "d = {}\n",
    "with open(\"cleaned_one.json\",\"r\",encoding=\"UTF-8\") as fp:\n",
    "    d = json.load(fp)\n"
   ]
  },
  {
   "cell_type": "code",
   "execution_count": 9,
   "metadata": {},
   "outputs": [],
   "source": [
    "book_names = np.array(list(d.keys()))\n",
    "texts = list(d.values())\n",
    "texts = [\" \".join(text) for text in texts]"
   ]
  },
  {
   "cell_type": "code",
   "execution_count": 10,
   "metadata": {},
   "outputs": [
    {
     "data": {
      "text/plain": [
       "'কড়া রোদ চারদিক বাতাস উষ্ণ গেট বাইরে প্রকাণ্ড শিমুল গাছ লাল লাল ফুলা বসন্তকাল লক্ষণ এই একটা সে একটা '"
      ]
     },
     "execution_count": 10,
     "metadata": {},
     "output_type": "execute_result"
    }
   ],
   "source": [
    "texts[1][:100]"
   ]
  },
  {
   "cell_type": "code",
   "execution_count": 11,
   "metadata": {},
   "outputs": [
    {
     "data": {
      "text/plain": [
       "(12, 2902)"
      ]
     },
     "execution_count": 11,
     "metadata": {},
     "output_type": "execute_result"
    }
   ],
   "source": [
    "vectorizer = CountVectorizer()\n",
    "texts_transformed = vectorizer.fit_transform(texts)\n",
    "np.shape(texts_transformed)"
   ]
  },
  {
   "cell_type": "code",
   "execution_count": 12,
   "metadata": {},
   "outputs": [
    {
     "data": {
      "text/plain": [
       "2902"
      ]
     },
     "execution_count": 12,
     "metadata": {},
     "output_type": "execute_result"
    }
   ],
   "source": [
    "# print(texts_transformed[0,:20])\n",
    "vocab = list(vectorizer.get_feature_names_out())\n",
    "# print(texts_transformed[:,-5:].todense())\n",
    "len(vocab)"
   ]
  },
  {
   "cell_type": "code",
   "execution_count": 13,
   "metadata": {},
   "outputs": [
    {
     "data": {
      "text/html": [
       "<style>#sk-container-id-2 {color: black;}#sk-container-id-2 pre{padding: 0;}#sk-container-id-2 div.sk-toggleable {background-color: white;}#sk-container-id-2 label.sk-toggleable__label {cursor: pointer;display: block;width: 100%;margin-bottom: 0;padding: 0.3em;box-sizing: border-box;text-align: center;}#sk-container-id-2 label.sk-toggleable__label-arrow:before {content: \"▸\";float: left;margin-right: 0.25em;color: #696969;}#sk-container-id-2 label.sk-toggleable__label-arrow:hover:before {color: black;}#sk-container-id-2 div.sk-estimator:hover label.sk-toggleable__label-arrow:before {color: black;}#sk-container-id-2 div.sk-toggleable__content {max-height: 0;max-width: 0;overflow: hidden;text-align: left;background-color: #f0f8ff;}#sk-container-id-2 div.sk-toggleable__content pre {margin: 0.2em;color: black;border-radius: 0.25em;background-color: #f0f8ff;}#sk-container-id-2 input.sk-toggleable__control:checked~div.sk-toggleable__content {max-height: 200px;max-width: 100%;overflow: auto;}#sk-container-id-2 input.sk-toggleable__control:checked~label.sk-toggleable__label-arrow:before {content: \"▾\";}#sk-container-id-2 div.sk-estimator input.sk-toggleable__control:checked~label.sk-toggleable__label {background-color: #d4ebff;}#sk-container-id-2 div.sk-label input.sk-toggleable__control:checked~label.sk-toggleable__label {background-color: #d4ebff;}#sk-container-id-2 input.sk-hidden--visually {border: 0;clip: rect(1px 1px 1px 1px);clip: rect(1px, 1px, 1px, 1px);height: 1px;margin: -1px;overflow: hidden;padding: 0;position: absolute;width: 1px;}#sk-container-id-2 div.sk-estimator {font-family: monospace;background-color: #f0f8ff;border: 1px dotted black;border-radius: 0.25em;box-sizing: border-box;margin-bottom: 0.5em;}#sk-container-id-2 div.sk-estimator:hover {background-color: #d4ebff;}#sk-container-id-2 div.sk-parallel-item::after {content: \"\";width: 100%;border-bottom: 1px solid gray;flex-grow: 1;}#sk-container-id-2 div.sk-label:hover label.sk-toggleable__label {background-color: #d4ebff;}#sk-container-id-2 div.sk-serial::before {content: \"\";position: absolute;border-left: 1px solid gray;box-sizing: border-box;top: 0;bottom: 0;left: 50%;z-index: 0;}#sk-container-id-2 div.sk-serial {display: flex;flex-direction: column;align-items: center;background-color: white;padding-right: 0.2em;padding-left: 0.2em;position: relative;}#sk-container-id-2 div.sk-item {position: relative;z-index: 1;}#sk-container-id-2 div.sk-parallel {display: flex;align-items: stretch;justify-content: center;background-color: white;position: relative;}#sk-container-id-2 div.sk-item::before, #sk-container-id-2 div.sk-parallel-item::before {content: \"\";position: absolute;border-left: 1px solid gray;box-sizing: border-box;top: 0;bottom: 0;left: 50%;z-index: -1;}#sk-container-id-2 div.sk-parallel-item {display: flex;flex-direction: column;z-index: 1;position: relative;background-color: white;}#sk-container-id-2 div.sk-parallel-item:first-child::after {align-self: flex-end;width: 50%;}#sk-container-id-2 div.sk-parallel-item:last-child::after {align-self: flex-start;width: 50%;}#sk-container-id-2 div.sk-parallel-item:only-child::after {width: 0;}#sk-container-id-2 div.sk-dashed-wrapped {border: 1px dashed gray;margin: 0 0.4em 0.5em 0.4em;box-sizing: border-box;padding-bottom: 0.4em;background-color: white;}#sk-container-id-2 div.sk-label label {font-family: monospace;font-weight: bold;display: inline-block;line-height: 1.2em;}#sk-container-id-2 div.sk-label-container {text-align: center;}#sk-container-id-2 div.sk-container {/* jupyter's `normalize.less` sets `[hidden] { display: none; }` but bootstrap.min.css set `[hidden] { display: none !important; }` so we also need the `!important` here to be able to override the default hidden behavior on the sphinx rendered scikit-learn.org. See: https://github.com/scikit-learn/scikit-learn/issues/21755 */display: inline-block !important;position: relative;}#sk-container-id-2 div.sk-text-repr-fallback {display: none;}</style><div id=\"sk-container-id-2\" class=\"sk-top-container\"><div class=\"sk-text-repr-fallback\"><pre>LatentDirichletAllocation(n_components=6, random_state=0)</pre><b>In a Jupyter environment, please rerun this cell to show the HTML representation or trust the notebook. <br />On GitHub, the HTML representation is unable to render, please try loading this page with nbviewer.org.</b></div><div class=\"sk-container\" hidden><div class=\"sk-item\"><div class=\"sk-estimator sk-toggleable\"><input class=\"sk-toggleable__control sk-hidden--visually\" id=\"sk-estimator-id-2\" type=\"checkbox\" checked><label for=\"sk-estimator-id-2\" class=\"sk-toggleable__label sk-toggleable__label-arrow\">LatentDirichletAllocation</label><div class=\"sk-toggleable__content\"><pre>LatentDirichletAllocation(n_components=6, random_state=0)</pre></div></div></div></div></div>"
      ],
      "text/plain": [
       "LatentDirichletAllocation(n_components=6, random_state=0)"
      ]
     },
     "execution_count": 13,
     "metadata": {},
     "output_type": "execute_result"
    }
   ],
   "source": [
    "# Create an LDA model with 6 topics\n",
    "lda = LatentDirichletAllocation(n_components=6, random_state=0)\n",
    "lda.fit(texts_transformed)"
   ]
  },
  {
   "cell_type": "code",
   "execution_count": 14,
   "metadata": {},
   "outputs": [
    {
     "name": "stdout",
     "output_type": "stream",
     "text": [
      "Document-topic distribution:\n",
      "[[0.00001701 0.9999154  0.00001681 0.00001698 0.00001699 0.00001681]\n",
      " [0.37227719 0.0148007  0.00001896 0.00139565 0.61148853 0.00001896]\n",
      " [0.50141812 0.49854131 0.0000101  0.0000102  0.00001018 0.0000101 ]\n",
      " [0.00000514 0.99997439 0.00000509 0.00000515 0.00000514 0.00000509]\n",
      " [0.99968728 0.00000447 0.00000443 0.00029492 0.00000447 0.00000443]\n",
      " [0.04078448 0.00000275 0.00000272 0.95904886 0.00015849 0.00000272]\n",
      " [0.00001361 0.99993223 0.00001347 0.00001361 0.0000136  0.00001347]\n",
      " [0.25805846 0.74122829 0.00001922 0.0006554  0.0000194  0.00001922]\n",
      " [0.89278653 0.0000289  0.0000286  0.10709849 0.00002888 0.0000286 ]\n",
      " [0.33786183 0.662074   0.00001597 0.00001612 0.00001611 0.00001597]\n",
      " [0.91358847 0.08633133 0.00001992 0.00002016 0.0000202  0.00001992]\n",
      " [0.98757399 0.00286752 0.00001197 0.00952248 0.00001208 0.00001197]]\n"
     ]
    }
   ],
   "source": [
    "# Print the document-topic distribution\n",
    "np.set_printoptions(suppress=True)\n",
    "print(\"Document-topic distribution:\")\n",
    "document_topic_dist = lda.transform(texts_transformed)\n",
    "print(document_topic_dist)"
   ]
  },
  {
   "cell_type": "code",
   "execution_count": 15,
   "metadata": {},
   "outputs": [
    {
     "name": "stdout",
     "output_type": "stream",
     "text": [
      "Book: দিনের শেষে\n",
      "জহির লাজুক মুখ বলা স্যার আজ এক\n",
      "Document 1 talks about topic [2 1 5 4 6 3] \n",
      "\n",
      "Book: এই বসন্তে\n",
      "কড়া রোদ চারদিক বাতাস উষ্ণ গেট\n",
      "Document 2 talks about topic [5 1 2 4 6 3] \n",
      "\n",
      "Book: এপিটাফ\n",
      "কাল রাত আমার খুব ভাল ঘুম হওয়া \n",
      "Document 3 talks about topic [1 2 4 5 6 3] \n",
      "\n",
      "Book: কে কথা কয়\n",
      "এই মুহূর্ত অতি তুচ্ছ একটা বিষয়\n",
      "Document 4 talks about topic [2 4 1 5 6 3] \n",
      "\n",
      "Book: মেঘ বলেছে যাব যাব\n",
      "একদল হাঁস সঙ্গ সে হাঁটা তার মা\n",
      "Document 5 talks about topic [1 4 2 5 6 3] \n",
      "\n",
      "Book: মধ্যাহ্ন\n",
      "হরিচরণ সাহা তাঁর পাকাবাড়ির পি\n",
      "Document 6 talks about topic [4 1 5 2 6 3] \n",
      "\n",
      "Book: মৃন্ময়ীর মন ভালো নেই\n",
      "মৃন্ময়ী ঘুম ভাঙা মহান দায়িত্ব \n",
      "Document 7 talks about topic [2 1 4 5 6 3] \n",
      "\n",
      "Book: নীল অপরাজিতা\n",
      "তিনি ট্রেন থেকে নামা দুপুর বেল\n",
      "Document 8 talks about topic [2 1 4 5 6 3] \n",
      "\n",
      "Book: নির্বাসন\n",
      "রাত্রি তাঁর ভালো ঘুম হয় নি বা\n",
      "Document 9 talks about topic [1 4 2 5 6 3] \n",
      "\n",
      "Book: নক্ষত্রের রাত\n",
      "দেয়াল অদ্ভুত আকৃতি একটা জার্মা\n",
      "Document 10 talks about topic [2 1 4 5 6 3] \n",
      "\n",
      "Book: প্রথম প্রহর\n",
      "আমার বয়স প্রায় বত্রিশ প্রায়\n",
      "Document 11 talks about topic [1 2 5 4 6 3] \n",
      "\n",
      "Book: উড়ালপঙ্খি\n",
      "আয়নার দিক তাকিয়ে মুহিব চমকান\n",
      "Document 12 talks about topic [1 4 2 5 6 3] \n",
      "\n"
     ]
    }
   ],
   "source": [
    "document_topic_argmax=document_topic_dist.argsort(axis=1)[:,::-1] #.argsort(axis=1)[:,::-1]\n",
    "# print(document_topic_argmax,\"\\n\")\n",
    "\n",
    "for cnt,topic_idx, in enumerate(document_topic_argmax):\n",
    "    print(\"Book:\", book_names[cnt])\n",
    "    print(texts[cnt][:30])\n",
    "    print(\"Document\",cnt+1, \"talks about topic\", (topic_idx+1), \"\\n\")"
   ]
  },
  {
   "cell_type": "code",
   "execution_count": 16,
   "metadata": {},
   "outputs": [],
   "source": [
    "# Create a NearestNeighbors model (using Euclidean distance here)\n",
    "model_knn = NearestNeighbors(metric='euclidean', algorithm='brute', n_neighbors=6, n_jobs=-1)\n",
    "\n",
    "# Fit the model to your data\n",
    "model_knn.fit(document_topic_dist)\n",
    "\n",
    "# Get the top 6 closest distributions for each distribution\n",
    "distances, indices = model_knn.kneighbors(document_topic_dist)"
   ]
  },
  {
   "cell_type": "code",
   "execution_count": 26,
   "metadata": {},
   "outputs": [
    {
     "data": {
      "text/html": [
       "<div>\n",
       "<style scoped>\n",
       "    .dataframe tbody tr th:only-of-type {\n",
       "        vertical-align: middle;\n",
       "    }\n",
       "\n",
       "    .dataframe tbody tr th {\n",
       "        vertical-align: top;\n",
       "    }\n",
       "\n",
       "    .dataframe thead th {\n",
       "        text-align: right;\n",
       "    }\n",
       "</style>\n",
       "<table border=\"1\" class=\"dataframe\">\n",
       "  <thead>\n",
       "    <tr style=\"text-align: right;\">\n",
       "      <th></th>\n",
       "      <th>0</th>\n",
       "      <th>1</th>\n",
       "      <th>2</th>\n",
       "      <th>3</th>\n",
       "      <th>4</th>\n",
       "    </tr>\n",
       "  </thead>\n",
       "  <tbody>\n",
       "    <tr>\n",
       "      <th>দিনের শেষে</th>\n",
       "      <td>(মৃন্ময়ীর মন ভালো নেই, 1.8437391668919367e-05)</td>\n",
       "      <td>(কে কথা কয়, 6.461583107627962e-05)</td>\n",
       "      <td>(নীল অপরাজিতা, 0.3653831104404315)</td>\n",
       "      <td>(নক্ষত্রের রাত, 0.4777823079314146)</td>\n",
       "      <td>(এপিটাফ, 0.7090691449062192)</td>\n",
       "    </tr>\n",
       "    <tr>\n",
       "      <th>এই বসন্তে</th>\n",
       "      <td>(এপিটাফ, 0.7903100983215775)</td>\n",
       "      <td>(নির্বাসন, 0.8100643050231014)</td>\n",
       "      <td>(প্রথম প্রহর, 0.8197743314022894)</td>\n",
       "      <td>(উড়ালপঙ্খি, 0.8675840299886486)</td>\n",
       "      <td>(মেঘ বলেছে যাব যাব, 0.8762284635908387)</td>\n",
       "    </tr>\n",
       "    <tr>\n",
       "      <th>এপিটাফ</th>\n",
       "      <td>(নক্ষত্রের রাত, 0.23128683750092982)</td>\n",
       "      <td>(নীল অপরাজিতা, 0.34368781221156314)</td>\n",
       "      <td>(প্রথম প্রহর, 0.5829249271352744)</td>\n",
       "      <td>(নির্বাসন, 0.6427688231135116)</td>\n",
       "      <td>(উড়ালপঙ্খি, 0.6943561913232386)</td>\n",
       "    </tr>\n",
       "    <tr>\n",
       "      <th>কে কথা কয়</th>\n",
       "      <td>(মৃন্ময়ীর মন ভালো নেই, 4.6178449705539176e-05)</td>\n",
       "      <td>(দিনের শেষে, 6.461583107627962e-05)</td>\n",
       "      <td>(নীল অপরাজিতা, 0.3654332719119993)</td>\n",
       "      <td>(নক্ষত্রের রাত, 0.47783240620168504)</td>\n",
       "      <td>(এপিটাফ, 0.7091192415142729)</td>\n",
       "    </tr>\n",
       "    <tr>\n",
       "      <th>মেঘ বলেছে যাব যাব</th>\n",
       "      <td>(উড়ালপঙ্খি, 0.015494421371625617)</td>\n",
       "      <td>(প্রথম প্রহর, 0.121923777637518)</td>\n",
       "      <td>(নির্বাসন, 0.1511118027985817)</td>\n",
       "      <td>(এপিটাফ, 0.7048483675538061)</td>\n",
       "      <td>(এই বসন্তে, 0.8762284635908387)</td>\n",
       "    </tr>\n",
       "    <tr>\n",
       "      <th>মধ্যাহ্ন</th>\n",
       "      <td>(এপিটাফ, 1.1749379632047094)</td>\n",
       "      <td>(এই বসন্তে, 1.183609092826644)</td>\n",
       "      <td>(নক্ষত্রের রাত, 1.2026375633807371)</td>\n",
       "      <td>(নির্বাসন, 1.204876318998709)</td>\n",
       "      <td>(নীল অপরাজিতা, 1.2309107721163173)</td>\n",
       "    </tr>\n",
       "    <tr>\n",
       "      <th>মৃন্ময়ীর মন ভালো নেই</th>\n",
       "      <td>(দিনের শেষে, 1.8437391668919367e-05)</td>\n",
       "      <td>(কে কথা কয়, 4.6178449705539176e-05)</td>\n",
       "      <td>(নীল অপরাজিতা, 0.3653974278675799)</td>\n",
       "      <td>(নক্ষত্রের রাত, 0.47779660744681657)</td>\n",
       "      <td>(এপিটাফ, 0.7090834440634305)</td>\n",
       "    </tr>\n",
       "    <tr>\n",
       "      <th>নীল অপরাজিতা</th>\n",
       "      <td>(নক্ষত্রের রাত, 0.11240279562587763)</td>\n",
       "      <td>(এপিটাফ, 0.34368781221156314)</td>\n",
       "      <td>(দিনের শেষে, 0.3653831104404315)</td>\n",
       "      <td>(মৃন্ময়ীর মন ভালো নেই, 0.3653974278675799)</td>\n",
       "      <td>(কে কথা কয়, 0.3654332719119993)</td>\n",
       "    </tr>\n",
       "    <tr>\n",
       "      <th>নির্বাসন</th>\n",
       "      <td>(উড়ালপঙ্খি, 0.13606541949733164)</td>\n",
       "      <td>(প্রথম প্রহর, 0.13909205100743818)</td>\n",
       "      <td>(মেঘ বলেছে যাব যাব, 0.1511118027985817)</td>\n",
       "      <td>(এপিটাফ, 0.6427688231135116)</td>\n",
       "      <td>(এই বসন্তে, 0.8100643050231014)</td>\n",
       "    </tr>\n",
       "    <tr>\n",
       "      <th>নক্ষত্রের রাত</th>\n",
       "      <td>(নীল অপরাজিতা, 0.11240279562587763)</td>\n",
       "      <td>(এপিটাফ, 0.23128683750092982)</td>\n",
       "      <td>(দিনের শেষে, 0.4777823079314146)</td>\n",
       "      <td>(মৃন্ময়ীর মন ভালো নেই, 0.47779660744681657)</td>\n",
       "      <td>(কে কথা কয়, 0.47783240620168504)</td>\n",
       "    </tr>\n",
       "    <tr>\n",
       "      <th>প্রথম প্রহর</th>\n",
       "      <td>(উড়ালপঙ্খি, 0.1119390824914909)</td>\n",
       "      <td>(মেঘ বলেছে যাব যাব, 0.121923777637518)</td>\n",
       "      <td>(নির্বাসন, 0.13909205100743818)</td>\n",
       "      <td>(এপিটাফ, 0.5829249271352744)</td>\n",
       "      <td>(নক্ষত্রের রাত, 0.8142117628414027)</td>\n",
       "    </tr>\n",
       "    <tr>\n",
       "      <th>উড়ালপঙ্খি</th>\n",
       "      <td>(মেঘ বলেছে যাব যাব, 0.015494421371625617)</td>\n",
       "      <td>(প্রথম প্রহর, 0.1119390824914909)</td>\n",
       "      <td>(নির্বাসন, 0.13606541949733164)</td>\n",
       "      <td>(এপিটাফ, 0.6943561913232386)</td>\n",
       "      <td>(এই বসন্তে, 0.8675840299886486)</td>\n",
       "    </tr>\n",
       "  </tbody>\n",
       "</table>\n",
       "</div>"
      ],
      "text/plain": [
       "                                                                   0  \\\n",
       "দিনের শেষে            (মৃন্ময়ীর মন ভালো নেই, 1.8437391668919367e-05)   \n",
       "এই বসন্তে                               (এপিটাফ, 0.7903100983215775)   \n",
       "এপিটাফ                          (নক্ষত্রের রাত, 0.23128683750092982)   \n",
       "কে কথা কয়             (মৃন্ময়ীর মন ভালো নেই, 4.6178449705539176e-05)   \n",
       "মেঘ বলেছে যাব যাব                  (উড়ালপঙ্খি, 0.015494421371625617)   \n",
       "মধ্যাহ্ন                                (এপিটাফ, 1.1749379632047094)   \n",
       "মৃন্ময়ীর মন ভালো নেই            (দিনের শেষে, 1.8437391668919367e-05)   \n",
       "নীল অপরাজিতা                    (নক্ষত্রের রাত, 0.11240279562587763)   \n",
       "নির্বাসন                            (উড়ালপঙ্খি, 0.13606541949733164)   \n",
       "নক্ষত্রের রাত                    (নীল অপরাজিতা, 0.11240279562587763)   \n",
       "প্রথম প্রহর                          (উড়ালপঙ্খি, 0.1119390824914909)   \n",
       "উড়ালপঙ্খি                  (মেঘ বলেছে যাব যাব, 0.015494421371625617)   \n",
       "\n",
       "                                                           1  \\\n",
       "দিনের শেষে                (কে কথা কয়, 6.461583107627962e-05)   \n",
       "এই বসন্তে                     (নির্বাসন, 0.8100643050231014)   \n",
       "এপিটাফ                   (নীল অপরাজিতা, 0.34368781221156314)   \n",
       "কে কথা কয়                (দিনের শেষে, 6.461583107627962e-05)   \n",
       "মেঘ বলেছে যাব যাব           (প্রথম প্রহর, 0.121923777637518)   \n",
       "মধ্যাহ্ন                      (এই বসন্তে, 1.183609092826644)   \n",
       "মৃন্ময়ীর মন ভালো নেই     (কে কথা কয়, 4.6178449705539176e-05)   \n",
       "নীল অপরাজিতা                   (এপিটাফ, 0.34368781221156314)   \n",
       "নির্বাসন                  (প্রথম প্রহর, 0.13909205100743818)   \n",
       "নক্ষত্রের রাত                  (এপিটাফ, 0.23128683750092982)   \n",
       "প্রথম প্রহর           (মেঘ বলেছে যাব যাব, 0.121923777637518)   \n",
       "উড়ালপঙ্খি                  (প্রথম প্রহর, 0.1119390824914909)   \n",
       "\n",
       "                                                            2  \\\n",
       "দিনের শেষে                 (নীল অপরাজিতা, 0.3653831104404315)   \n",
       "এই বসন্তে                   (প্রথম প্রহর, 0.8197743314022894)   \n",
       "এপিটাফ                      (প্রথম প্রহর, 0.5829249271352744)   \n",
       "কে কথা কয়                  (নীল অপরাজিতা, 0.3654332719119993)   \n",
       "মেঘ বলেছে যাব যাব              (নির্বাসন, 0.1511118027985817)   \n",
       "মধ্যাহ্ন                  (নক্ষত্রের রাত, 1.2026375633807371)   \n",
       "মৃন্ময়ীর মন ভালো নেই       (নীল অপরাজিতা, 0.3653974278675799)   \n",
       "নীল অপরাজিতা                 (দিনের শেষে, 0.3653831104404315)   \n",
       "নির্বাসন              (মেঘ বলেছে যাব যাব, 0.1511118027985817)   \n",
       "নক্ষত্রের রাত                (দিনের শেষে, 0.4777823079314146)   \n",
       "প্রথম প্রহর                   (নির্বাসন, 0.13909205100743818)   \n",
       "উড়ালপঙ্খি                     (নির্বাসন, 0.13606541949733164)   \n",
       "\n",
       "                                                                3  \\\n",
       "দিনের শেষে                    (নক্ষত্রের রাত, 0.4777823079314146)   \n",
       "এই বসন্তে                         (উড়ালপঙ্খি, 0.8675840299886486)   \n",
       "এপিটাফ                             (নির্বাসন, 0.6427688231135116)   \n",
       "কে কথা কয়                    (নক্ষত্রের রাত, 0.47783240620168504)   \n",
       "মেঘ বলেছে যাব যাব                    (এপিটাফ, 0.7048483675538061)   \n",
       "মধ্যাহ্ন                            (নির্বাসন, 1.204876318998709)   \n",
       "মৃন্ময়ীর মন ভালো নেই         (নক্ষত্রের রাত, 0.47779660744681657)   \n",
       "নীল অপরাজিতা           (মৃন্ময়ীর মন ভালো নেই, 0.3653974278675799)   \n",
       "নির্বাসন                             (এপিটাফ, 0.6427688231135116)   \n",
       "নক্ষত্রের রাত         (মৃন্ময়ীর মন ভালো নেই, 0.47779660744681657)   \n",
       "প্রথম প্রহর                          (এপিটাফ, 0.5829249271352744)   \n",
       "উড়ালপঙ্খি                            (এপিটাফ, 0.6943561913232386)   \n",
       "\n",
       "                                                            4  \n",
       "দিনের শেষে                       (এপিটাফ, 0.7090691449062192)  \n",
       "এই বসন্তে             (মেঘ বলেছে যাব যাব, 0.8762284635908387)  \n",
       "এপিটাফ                        (উড়ালপঙ্খি, 0.6943561913232386)  \n",
       "কে কথা কয়                        (এপিটাফ, 0.7091192415142729)  \n",
       "মেঘ বলেছে যাব যাব             (এই বসন্তে, 0.8762284635908387)  \n",
       "মধ্যাহ্ন                   (নীল অপরাজিতা, 1.2309107721163173)  \n",
       "মৃন্ময়ীর মন ভালো নেই             (এপিটাফ, 0.7090834440634305)  \n",
       "নীল অপরাজিতা                  (কে কথা কয়, 0.3654332719119993)  \n",
       "নির্বাসন                      (এই বসন্তে, 0.8100643050231014)  \n",
       "নক্ষত্রের রাত                (কে কথা কয়, 0.47783240620168504)  \n",
       "প্রথম প্রহর               (নক্ষত্রের রাত, 0.8142117628414027)  \n",
       "উড়ালপঙ্খি                     (এই বসন্তে, 0.8675840299886486)  "
      ]
     },
     "execution_count": 26,
     "metadata": {},
     "output_type": "execute_result"
    }
   ],
   "source": [
    "np.set_printoptions(suppress=True)\n",
    "idx_dist_pair = []\n",
    "for i in range(12):\n",
    "    temp = [(book_names[idx],dist) for idx,dist in zip(indices[i][1:],distances[i][1:])]\n",
    "    idx_dist_pair.append(temp)\n",
    "pd.DataFrame(idx_dist_pair, index=book_names)"
   ]
  },
  {
   "cell_type": "code",
   "execution_count": 18,
   "metadata": {},
   "outputs": [
    {
     "name": "stdout",
     "output_type": "stream",
     "text": [
      "দিনের শেষে: ['মৃন্ময়ীর মন ভালো নেই' 'কে কথা কয়' 'নীল অপরাজিতা' 'নক্ষত্রের রাত'\n",
      " 'এপিটাফ']\n",
      "এই বসন্তে: ['এপিটাফ' 'নির্বাসন' 'প্রথম প্রহর' 'উড়ালপঙ্খি' 'মেঘ বলেছে যাব যাব']\n",
      "এপিটাফ: ['নক্ষত্রের রাত' 'নীল অপরাজিতা' 'প্রথম প্রহর' 'নির্বাসন' 'উড়ালপঙ্খি']\n",
      "কে কথা কয়: ['মৃন্ময়ীর মন ভালো নেই' 'দিনের শেষে' 'নীল অপরাজিতা' 'নক্ষত্রের রাত'\n",
      " 'এপিটাফ']\n",
      "মেঘ বলেছে যাব যাব: ['উড়ালপঙ্খি' 'প্রথম প্রহর' 'নির্বাসন' 'এপিটাফ' 'এই বসন্তে']\n",
      "মধ্যাহ্ন: ['এপিটাফ' 'এই বসন্তে' 'নক্ষত্রের রাত' 'নির্বাসন' 'নীল অপরাজিতা']\n",
      "মৃন্ময়ীর মন ভালো নেই: ['দিনের শেষে' 'কে কথা কয়' 'নীল অপরাজিতা' 'নক্ষত্রের রাত' 'এপিটাফ']\n",
      "নীল অপরাজিতা: ['নক্ষত্রের রাত' 'এপিটাফ' 'দিনের শেষে' 'মৃন্ময়ীর মন ভালো নেই' 'কে কথা কয়']\n",
      "নির্বাসন: ['উড়ালপঙ্খি' 'প্রথম প্রহর' 'মেঘ বলেছে যাব যাব' 'এপিটাফ' 'এই বসন্তে']\n",
      "নক্ষত্রের রাত: ['নীল অপরাজিতা' 'এপিটাফ' 'দিনের শেষে' 'মৃন্ময়ীর মন ভালো নেই' 'কে কথা কয়']\n",
      "প্রথম প্রহর: ['উড়ালপঙ্খি' 'মেঘ বলেছে যাব যাব' 'নির্বাসন' 'এপিটাফ' 'নক্ষত্রের রাত']\n",
      "উড়ালপঙ্খি: ['মেঘ বলেছে যাব যাব' 'প্রথম প্রহর' 'নির্বাসন' 'এপিটাফ' 'এই বসন্তে']\n"
     ]
    }
   ],
   "source": [
    "# For each distribution, print the indices of the 5 closest distributions\n",
    "for i in range(len(document_topic_dist)):\n",
    "    # print(f\"Document {i} is closest to documents {indices[i][1:]}.\")\n",
    "    print(f\"{book_names[i]}: {book_names[indices[i][1:]]}\")"
   ]
  }
 ],
 "metadata": {
  "kernelspec": {
   "display_name": "env",
   "language": "python",
   "name": "python3"
  },
  "language_info": {
   "codemirror_mode": {
    "name": "ipython",
    "version": 3
   },
   "file_extension": ".py",
   "mimetype": "text/x-python",
   "name": "python",
   "nbconvert_exporter": "python",
   "pygments_lexer": "ipython3",
   "version": "3.12.0"
  }
 },
 "nbformat": 4,
 "nbformat_minor": 2
}
